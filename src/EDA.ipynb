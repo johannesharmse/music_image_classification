{
 "cells": [
  {
   "cell_type": "code",
   "execution_count": 2,
   "metadata": {},
   "outputs": [],
   "source": [
    "from pydub import AudioSegment\n",
    "import matplotlib.pyplot as plt\n",
    "import numpy as np\n",
    "import os\n",
    "from os import listdir\n",
    "from os.path import isfile, join\n",
    "from PIL import Image\n",
    "import re\n",
    "import random"
   ]
  },
  {
   "cell_type": "code",
   "execution_count": 66,
   "metadata": {},
   "outputs": [],
   "source": [
    "# count = 0\n",
    "\n",
    "# img_folder = \"../additional/data/\"\n",
    "# genres = [\"hip_hop\", \"electro\"]\n",
    "\n",
    "# sample_duration = 30*1000 # 30 secs\n",
    "\n",
    "# if not os.path.exists(join(img_folder, \"train/\")):\n",
    "#     os.makedirs(join(img_folder, \"train/\"))\n",
    "    \n",
    "# if not os.path.exists(join(img_folder, \"test/\")):\n",
    "#     os.makedirs(join(img_folder, \"test/\"))\n",
    "\n",
    "    \n",
    "# for genre in genres:\n",
    "#     if not os.path.exists(join(img_folder, \"train\", genre, \"/\")):\n",
    "#         os.makedirs(join(img_folder, \"train\", genre, \"/\"))\n",
    "        \n",
    "#     song_folder = join(img_folder, genre, \"mp3_files/\")\n",
    "\n",
    "#     song_files = [f for f in listdir(song_folder) if isfile(join(song_folder, f))]\n",
    "\n",
    "#     for f in song_files:\n",
    "#         song = AudioSegment.from_mp3(join(song_folder, f))\n",
    "\n",
    "#         for segment in range(0, len(song) - sample_duration, sample_duration):\n",
    "#             sample_start = segment\n",
    "#             sample_end = segment + sample_duration\n",
    "\n",
    "#             sample = song[sample_start:sample_end]\n",
    "#             sample = sample.raw_data\n",
    "#             sample = np.fromstring(sample, 'Int16')\n",
    "\n",
    "#             sample = np.convolve(sample, np.ones((1*1000,))/(1*1000), mode='valid')\n",
    "\n",
    "#             plt.figure()\n",
    "#             plt.plot(sample)\n",
    "#             plt.ylim([-17000, 17000])\n",
    "\n",
    "#             test_pic = np.random.choice([True, False], p=[0.3, 0.7])\n",
    "\n",
    "#             if test_pic:\n",
    "#                 plt.savefig(join(img_folder, \"test\", re.sub(r'\\W+', '', f) + str(segment//1000) + '.jpg'))\n",
    "#             else:\n",
    "#                 plt.savefig(join(img_folder, \"train\", genre, re.sub(r'\\W+', '', f) + str(segment//1000) + '.jpg'))\n",
    "\n",
    "\n",
    "#             plt.close()\n",
    "            \n",
    "#             count += 1"
   ]
  }
 ],
 "metadata": {
  "kernelspec": {
   "display_name": "Python 3",
   "language": "python",
   "name": "python3"
  },
  "language_info": {
   "codemirror_mode": {
    "name": "ipython",
    "version": 3
   },
   "file_extension": ".py",
   "mimetype": "text/x-python",
   "name": "python",
   "nbconvert_exporter": "python",
   "pygments_lexer": "ipython3",
   "version": "3.6.4"
  }
 },
 "nbformat": 4,
 "nbformat_minor": 2
}
