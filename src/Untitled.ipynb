{
 "cells": [
  {
   "cell_type": "markdown",
   "metadata": {},
   "source": [
    "# School of AI\n",
    "\n",
    "## Coding Challenge - Week 1\n",
    "\n",
    "### Differentiating between Hip Hop and Electro Music"
   ]
  },
  {
   "cell_type": "markdown",
   "metadata": {},
   "source": [
    "The idea between this image classification application isn't to simply distinguish between two genres, but to explore the differences between different styles of music, whether a genre or a human created music playlist that portrays a certain mood or vibe, and see whether it's possible to determine which playlist/mood/vibe a specific song best represents.\n",
    "\n",
    "If a short sample of a song is given to the model, will the model be able to determine if the song best fits in the \"hip hop\" playlist or the \"electro\" playlist?\n",
    "\n",
    "The idea is to provide an alternative to generic music recommender systems which mainly makes use of meta data to determine which songs or playlsits should be recommended."
   ]
  },
  {
   "cell_type": "markdown",
   "metadata": {},
   "source": [
    "### Audio to Image\n",
    "\n",
    "To allow a CNN to train on songs, we first need to convert the audio to images.\n",
    "\n",
    "A few things were done for creating the images that are fed into the model:\n",
    "\n",
    "* Each audio file, which is a full song, is stripped to its raw audio data and stored as numeric values. The numeric values are plotted as a sequential line plot to represent the audio.\n",
    "\n",
    "* Each image represents **4 seconds of audio**. Each song was split up to create a large amount of unique samples per song.\n",
    "\n",
    "* Each 4 second sample was convulved, by taking a moving 1 second average over the 4 second sample.\n",
    "\n",
    "* To reduce confusion for the model, the axis of the images were fixed and negative values were cut off, since the plot is essentially symmetrical around the y=0 axis."
   ]
  },
  {
   "cell_type": "code",
   "execution_count": null,
   "metadata": {},
   "outputs": [],
   "source": []
  }
 ],
 "metadata": {
  "kernelspec": {
   "display_name": "Python 3",
   "language": "python",
   "name": "python3"
  },
  "language_info": {
   "codemirror_mode": {
    "name": "ipython",
    "version": 3
   },
   "file_extension": ".py",
   "mimetype": "text/x-python",
   "name": "python",
   "nbconvert_exporter": "python",
   "pygments_lexer": "ipython3",
   "version": "3.6.4"
  }
 },
 "nbformat": 4,
 "nbformat_minor": 2
}
